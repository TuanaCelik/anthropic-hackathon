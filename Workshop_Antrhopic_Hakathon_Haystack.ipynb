{
  "nbformat": 4,
  "nbformat_minor": 0,
  "metadata": {
    "colab": {
      "provenance": [],
      "gpuType": "T4",
      "toc_visible": true,
      "include_colab_link": true
    },
    "kernelspec": {
      "name": "python3",
      "display_name": "Python 3"
    },
    "language_info": {
      "name": "python"
    },
    "accelerator": "GPU"
  },
  "cells": [
    {
      "cell_type": "markdown",
      "metadata": {
        "id": "view-in-github",
        "colab_type": "text"
      },
      "source": [
        "<a href=\"https://colab.research.google.com/github/TuanaCelik/anthropic-hackathon/blob/main/Workshop_Antrhopic_Hakathon_Haystacl.ipynb\" target=\"_parent\"><img src=\"https://colab.research.google.com/assets/colab-badge.svg\" alt=\"Open In Colab\"/></a>"
      ]
    },
    {
      "cell_type": "markdown",
      "source": [
        "# Building Customized Retrieval-Augmented Pipelines with Haystack and Claude\n",
        "\n",
        "![](https://raw.githubusercontent.com/TuanaCelik/anthropic-hackathon/main/webretriever_promptnode.png)\n",
        "![](https://raw.githubusercontent.com/TuanaCelik/anthropic-hackathon/main/hackernews_promptnode.png)"
      ],
      "metadata": {
        "id": "oXix3otxsu_V"
      }
    },
    {
      "cell_type": "code",
      "execution_count": null,
      "metadata": {
        "id": "eN9OR2gqIqox"
      },
      "outputs": [],
      "source": [
        "!pip install farm-haystack[inference]"
      ]
    },
    {
      "cell_type": "markdown",
      "source": [
        "## 1. Using Claude with Haystack\n",
        "\n",
        "Haystack has 2 main components that define how it interacts with LLMs:\n",
        "- The `PromptTemplate`: Describe how you want to interact with an LLM.\n",
        "- The `PromptNode`: This is the components that prompts the degfined LLM. Here, we'll be using \"claude-2\"\n",
        "\n",
        "![PromptNode with Anthropic](https://raw.githubusercontent.com/TuanaCelik/anthropic-hackathon/main/anthropic_prompt_node.png)\n",
        "#### PromptTemplate\n",
        "You have 2 options:\n",
        "1. Define your own prompt template with the desired text and inputs\n",
        "2. Use one of the predefined ones from [PromptHub](https://prompthub.deepset.ai/). For example:\n",
        "```python\n",
        "prompt_node = PromptNode(\n",
        "    model_name_or_path = \"claude-2\",\n",
        "    default_prompt_template=\"deepset/question-answering\",\n",
        "    api_key=anthropic_key,\n",
        "    max_length=768,\n",
        "    model_kwargs={\"stream\": True},\n",
        ")\n",
        "```"
      ],
      "metadata": {
        "id": "llkNUjRFt14Y"
      }
    },
    {
      "cell_type": "code",
      "source": [
        "from getpass import getpass\n",
        "\n",
        "anthropic_key = getpass(\"Enter Anthropic API key:\")"
      ],
      "metadata": {
        "id": "Fj1nWQyVvEIp"
      },
      "execution_count": null,
      "outputs": []
    },
    {
      "cell_type": "code",
      "source": [
        "from haystack.nodes import PromptTemplate, PromptNode\n",
        "\n",
        "prompt_text = \"\"\"\n",
        "Answer the following question.\n",
        "Question: {query}\n",
        "Answer:\n",
        "\"\"\"\n",
        "\n",
        "prompt_template = PromptTemplate(prompt=prompt_text)\n",
        "\n",
        "prompt_node = PromptNode(\n",
        "    model_name_or_path = \"claude-2\",\n",
        "    default_prompt_template=PromptTemplate(prompt_text),\n",
        "    api_key=anthropic_key,\n",
        "    max_length=768,\n",
        "    model_kwargs={\"stream\": True},\n",
        ")"
      ],
      "metadata": {
        "id": "RUWoJOLqt1On"
      },
      "execution_count": null,
      "outputs": []
    },
    {
      "cell_type": "code",
      "source": [
        "prompt_node.run(\"What is the capital of the UK?\")"
      ],
      "metadata": {
        "id": "9AnCSdRgvcWV"
      },
      "execution_count": null,
      "outputs": []
    },
    {
      "cell_type": "markdown",
      "source": [
        "## Building a RAG Pipeline\n",
        "\n",
        "Here, we're building a simple retrieval-augmented generative pipeline that uses the web as it's source of knowledge. You can set the 'source' to be a document store, another API, or a custom built data fetcher too.\n",
        "\n",
        "What does this pipeline need?\n",
        "\n",
        "- A [`WebRetriever`](https://docs.haystack.deepset.ai/reference/retriever-api#webretriever): This is a tool designed to extract relevant documents from the web. Depending on the operation mode, this text can be further broken down into smaller documents with the help of a PreProcessor. Here, we will be using Serper Dev and you can use the follwing API Key: `394722eca5375ac54854c62cef993d9f2768a0e3`\n",
        "- (Optionally) A ranker like [`DiversityRanker`](https://docs.haystack.deepset.ai/reference/ranker-api#diversityranker): This ranker reranks the documents in a way that includes the highest level of diversity.\n",
        "- A [`PromptNode`](https://docs.haystack.deepset.ai/docs/prompt_node): Which uses a `PromptTemplate` of our choice and prompts \"claude-2\"\n",
        "\n",
        "`WebRetriever`->`PromptNode`| `WebRetriever`->`Ranker` ->`PromptNode`\n",
        ":-------------------------:|:-------------------------:\n",
        "\n",
        "![](https://raw.githubusercontent.com/TuanaCelik/anthropic-hackathon/main/webretriever_promptnode.png)|![](https://raw.githubusercontent.com/TuanaCelik/anthropic-hackathon/main/webretriever_ranker_promptnode.png)"
      ],
      "metadata": {
        "id": "oDURzUlhwe1n"
      }
    },
    {
      "cell_type": "code",
      "source": [
        "from google.colab import drive\n",
        "drive.mount('/content/drive')"
      ],
      "metadata": {
        "id": "OmjjK3Z8zEAr"
      },
      "execution_count": null,
      "outputs": []
    },
    {
      "cell_type": "code",
      "source": [
        "from getpass import getpass\n",
        "\n",
        "search_key = getpass(\"Enter Serperdev API key:\")"
      ],
      "metadata": {
        "id": "cb1kYe_VxvnP"
      },
      "execution_count": null,
      "outputs": []
    },
    {
      "cell_type": "code",
      "source": [
        "from haystack.nodes import WebRetriever, PromptNode, PromptTemplate\n",
        "\n",
        "web_retriever = WebRetriever(api_key=search_key, top_search_results=10, mode=\"preprocessed_documents\", top_k=20)"
      ],
      "metadata": {
        "id": "071ymJB3zmij"
      },
      "execution_count": null,
      "outputs": []
    },
    {
      "cell_type": "code",
      "source": [
        "from haystack.nodes.ranker import DiversityRanker\n",
        "\n",
        "diversity_ranker = DiversityRanker()"
      ],
      "metadata": {
        "id": "K9rHYQNs0LNr"
      },
      "execution_count": null,
      "outputs": []
    },
    {
      "cell_type": "code",
      "source": [
        "prompt_text = \"\"\"\n",
        "Using the provided paragraphs and question, craft a comprehensive answer in full sentences.\\n\n",
        "Don't use bullet points or lists.\\n\n",
        "Paragraphs: {join(documents)} \\n\\nQuestion: {query} \\n\\nAnswer:\n",
        "\"\"\"\n",
        "\n",
        "prompt_node = PromptNode(\n",
        "    model_name_or_path = \"claude-2\",\n",
        "    default_prompt_template=PromptTemplate(prompt_text),\n",
        "    api_key=anthropic_key,\n",
        "    max_length=768,\n",
        "    model_kwargs={\"stream\": True},\n",
        ")"
      ],
      "metadata": {
        "id": "A1akYz3J0Djl"
      },
      "execution_count": null,
      "outputs": []
    },
    {
      "cell_type": "code",
      "source": [
        "from haystack import Pipeline\n",
        "pipeline = Pipeline()\n",
        "\n"
      ],
      "metadata": {
        "id": "rsyPC7oEz9oc"
      },
      "execution_count": null,
      "outputs": []
    },
    {
      "cell_type": "code",
      "source": [
        "pipeline.run(\"What are the effects of climate change on the environment, politics and more?\")"
      ],
      "metadata": {
        "id": "I-l-bIWq0mD6"
      },
      "execution_count": null,
      "outputs": []
    },
    {
      "cell_type": "markdown",
      "source": [
        "## Building Your Own Custom Components with Haystack\n",
        "\n",
        "One core value of Haystack is the custom components API. This allows you to build your own nodes that you can then slot into a pipeline. The full guide on how to do this is [here](https://docs.haystack.deepset.ai/docs/custom_nodes):\n",
        "\n",
        "```python\n",
        "from haystack.nodes.base import BaseComponent\n",
        "\n",
        "class NodeTemplate(BaseComponent):\n",
        "    # If it's not a decision component, there is only one outgoing edge\n",
        "    outgoing_edges = 1\n",
        "\n",
        "    def run(self, query: str, my_arg: Optional[int] = 10):\n",
        "        # Insert code here to manipulate the input and produce an output dictionary\n",
        "        ...\n",
        "        output={\n",
        "            \"documents\": ...,\n",
        "        }\n",
        "        return output, \"output_1\"\n",
        "\n",
        "    def run_batch(self, queries: List[str], my_arg: Optional[int] = 10):\n",
        "        # Insert code here to manipulate the input and produce an output dictionary\n",
        "        ...\n",
        "        output={\n",
        "            \"documents\": ...,\n",
        "        }\n",
        "        return output, \"output_1\"\n",
        "```\n",
        "\n",
        "#### Building a 'Hacker News Fetcher'\n",
        "\n",
        "Below we use the template above to build a fetcher that will fetch the latest posts from Hacker News and create Haystack `Document` types. We can then add this node into a RAG pipeline to act as the data source.\n"
      ],
      "metadata": {
        "id": "eG7aqlbj1AEG"
      }
    },
    {
      "cell_type": "code",
      "source": [
        "!pip install newspaper3k"
      ],
      "metadata": {
        "id": "JYClmeGBI9Tv"
      },
      "execution_count": null,
      "outputs": []
    },
    {
      "cell_type": "code",
      "source": [
        "import requests\n",
        "from haystack.nodes import BaseComponent\n",
        "from haystack.schema import Document\n",
        "from typing import Optional\n",
        "from newspaper import Article\n",
        "\n",
        "class HackernewsNewestFetcher(BaseComponent):\n",
        "    outgoing_edges = 1\n",
        "\n",
        "    def __init__(self, last_k: Optional[int] = 5):\n",
        "        self.last_k = last_k\n",
        "\n",
        "    def run(self, last_k: Optional[int] = None):\n",
        "        if last_k is None:\n",
        "            last_k = self.last_k\n",
        "\n",
        "        newest_list = requests.get(url='https://hacker-news.firebaseio.com/v0/newstories.json?print=pretty')\n",
        "        articles = []\n",
        "\n",
        "        for id in newest_list.json()[0:last_k]:\n",
        "          article = requests.get(url=f\"https://hacker-news.firebaseio.com/v0/item/{id}.json?print=pretty\")\n",
        "          if 'url' in article.json():\n",
        "            articles.append(article.json()['url'])\n",
        "\n",
        "        docs = []\n",
        "        for url in articles:\n",
        "          try:\n",
        "            article = Article(url)\n",
        "            article.download()\n",
        "            article.parse()\n",
        "            docs.append(Document(content=article.text, meta={'title': article.title, 'url': url}))\n",
        "          except:\n",
        "            print(f\"Couldn't download {url}, skipped\")\n",
        "\n",
        "        output = {\"documents\": docs}\n",
        "        return output, \"output_1\"\n",
        "\n",
        "    def run_batch(self):\n",
        "        pass"
      ],
      "metadata": {
        "id": "RBHVOmqVJgmg"
      },
      "execution_count": null,
      "outputs": []
    },
    {
      "cell_type": "code",
      "source": [
        "fetcher = HackernewsNewestFetcher()"
      ],
      "metadata": {
        "id": "4eH5qpLmLevh"
      },
      "execution_count": null,
      "outputs": []
    },
    {
      "cell_type": "code",
      "source": [
        "from haystack.nodes import PromptNode, PromptTemplate, AnswerParser\n",
        "\n",
        "prompt_text = \"\"\"\n",
        "You will be provided a few of the latest posts in HakcerNews, followed by their URL.\n",
        "For each post, provide a brief summary followed by the URL the full post can be found in.\n",
        "\n",
        "Posts:{join(documents, delimiter=new_line, pattern='---'+new_line+'$content'+new_line+'URL: $url', str_replace={new_line: ' ', '[': '(', ']': ')'})}\n",
        "\"\"\"\n",
        "\n",
        "prompt_template = PromptTemplate(\n",
        "    prompt=prompt,\n",
        "    output_parser=AnswerParser(),\n",
        ")\n",
        "\n",
        "prompt_node = PromptNode(\n",
        "    model_name_or_path = \"claude-2\",\n",
        "    default_prompt_template=PromptTemplate(prompt_text),\n",
        "    api_key=anthropic_key,\n",
        "    max_length=768,\n",
        "    model_kwargs={\"stream\": True},\n",
        ")\n"
      ],
      "metadata": {
        "id": "2fNjJ6ryKMGp"
      },
      "execution_count": null,
      "outputs": []
    },
    {
      "cell_type": "markdown",
      "source": [
        "![](https://raw.githubusercontent.com/TuanaCelik/anthropic-hackathon/main/hackernews_promptnode.png)"
      ],
      "metadata": {
        "id": "UHUUfSYz0tc3"
      }
    },
    {
      "cell_type": "code",
      "source": [
        "from haystack.pipelines import Pipeline\n",
        "\n",
        "pipe = Pipeline()\n",
        "pipe.add_node(component=fetcher, name=\"fetcher\", inputs=[\"Query\"])\n",
        "pipe.add_node(component=prompt_node, name=\"prompt_node\", inputs=[\"fetcher\"])\n"
      ],
      "metadata": {
        "id": "05Vm2duILXC5"
      },
      "execution_count": null,
      "outputs": []
    },
    {
      "cell_type": "code",
      "source": [
        "results = pipe.run(params={\"fetcher\":{\"last_k\":2}}, debug=True)"
      ],
      "metadata": {
        "id": "4NtncdDLLpoz"
      },
      "execution_count": null,
      "outputs": []
    },
    {
      "cell_type": "markdown",
      "source": [
        "## Some Examples by the community\n",
        "\n",
        "Some custom nodes by the community have been packaged and made available on the [Haystack Integrations](https://haystack.deepset.ai/integrations) page. Some useful ones 👇\n",
        "\n",
        "- [Notion Extractor](https://haystack.deepset.ai/integrations/notion-extractor)\n",
        "- [ReadMe Docs Fetcehr](https://haystack.deepset.ai/integrations/readmedocs-fetcher)\n",
        "- [Masdodon Fetcher](https://haystack.deepset.ai/integrations/mastodon-fetcher)\n",
        "\n",
        "[🐤 Should I follow? (demo for inspiration)](https://huggingface.co/spaces/deepset/should-i-follow)"
      ],
      "metadata": {
        "id": "aPCqMxPL7efH"
      }
    },
    {
      "cell_type": "markdown",
      "source": [
        "# Indexing for Documents to a Document Store\n",
        "\n",
        "Indexing pipelines are used to prepare, preprocess, split and store your data in a `DocumentStore`.\n",
        "\n",
        "You can see the available Document Stores for Haystack [here](https://haystack.deepset.ai/integrations?type=Document+Store).\n",
        "\n",
        "Indexing Pipelines:\n",
        "1. Convert your data from a given filetype to a Haystack `Document` with one of the [Converters](https://docs.haystack.deepset.ai/docs/file_converters)\n",
        "2. Preprocess your documents into smaller chunks with overlap by creating a [PreProcessor](https://docs.haystack.deepset.ai/docs/preprocessor)\n",
        "3. (Optionally) Use the [Retriever](https://docs.haystack.deepset.ai/docs/retriever) you intend to use in your RAG pipelines to also create and store embeddings of your documents in your `DocumentStore`.\n",
        "\n",
        "![](https://raw.githubusercontent.com/TuanaCelik/anthropic-hackathon/main/indexing.png)\n",
        "\n",
        "Below, we use an `InMemoryDocumentStore` for demonstration purposes."
      ],
      "metadata": {
        "id": "-Tr_bNCQ7QlZ"
      }
    },
    {
      "cell_type": "code",
      "source": [
        "!pip install farm-haystack[weaviate,inference,file-conversion,preprocessing]"
      ],
      "metadata": {
        "id": "org-d9Uk21QN"
      },
      "execution_count": null,
      "outputs": []
    },
    {
      "cell_type": "code",
      "source": [
        "import weaviate\n",
        "from weaviate.embedded import EmbeddedOptions\n",
        "from haystack.document_stores import WeaviateDocumentStore\n",
        "\n",
        "client = weaviate.Client(\n",
        "  embedded_options=weaviate.embedded.EmbeddedOptions()\n",
        ")"
      ],
      "metadata": {
        "id": "9vGvxZ612rId"
      },
      "execution_count": null,
      "outputs": []
    },
    {
      "cell_type": "code",
      "source": [
        "document_store = WeaviateDocumentStore(use_embedded=True, port=6666)"
      ],
      "metadata": {
        "id": "r4frjEO13FzE"
      },
      "execution_count": null,
      "outputs": []
    },
    {
      "cell_type": "code",
      "source": [
        "from haystack.document_stores import InMemoryDocumentStore\n",
        "from haystack.nodes import LinkContentFetcher, PreProcessor, EmbeddingRetriever\n",
        "\n",
        "# document_store = InMemoryDocumentStore(embedding_dim=768)\n",
        "link_content_fetcher = LinkContentFetcher()\n",
        "preprocessor = PreProcessor()\n",
        "retriever = EmbeddingRetriever(document_store=document_store, embedding_model=\"sentence-transformers/multi-qa-mpnet-base-dot-v1\",)\n"
      ],
      "metadata": {
        "id": "3s1giuCL7XlS"
      },
      "execution_count": null,
      "outputs": []
    },
    {
      "cell_type": "code",
      "source": [
        "from haystack import Pipeline\n",
        "\n",
        "indexing_pipeline = Pipeline()\n",
        "indexing_pipeline.add_node(component=link_content_fetcher, name=\"Fetcher\", inputs=[\"File\"])\n",
        "indexing_pipeline.add_node(component=preprocessor, name=\"PreProcessor\", inputs=[\"Fetcher\"])\n",
        "indexing_pipeline.add_node(component=retriever, name=\"Retriever\", inputs=[\"PreProcessor\"])\n",
        "indexing_pipeline.add_node(component=document_store, name=\"DocumentStore\", inputs=[\"Retriever\"])"
      ],
      "metadata": {
        "id": "ZWgy_0jGC6uI"
      },
      "execution_count": null,
      "outputs": []
    },
    {
      "cell_type": "code",
      "source": [
        "indexing_pipeline.run(params={\"Fetcher\":{\"query\": \"https://docs.haystack.deepset.ai/docs/retriever\"}})"
      ],
      "metadata": {
        "id": "M1V8libADTTB"
      },
      "execution_count": null,
      "outputs": []
    },
    {
      "cell_type": "code",
      "source": [
        "document_store.get_document_count()"
      ],
      "metadata": {
        "id": "ggvukgQRDm-R"
      },
      "execution_count": null,
      "outputs": []
    },
    {
      "cell_type": "markdown",
      "source": [
        "# Use Your Pipelines and Components as Agent Tools\n",
        "\n",
        "Here is one of our[ Agent Tutorials to answer Multihop Questions](https://haystack.deepset.ai/tutorials/23_answering_multihop_questions_with_agents)\n",
        "\n",
        "![](https://raw.githubusercontent.com/TuanaCelik/anthropic-hackathon/main/agent_simple.png)![](https://raw.githubusercontent.com/TuanaCelik/anthropic-hackathon/main/agent_detailed.png)"
      ],
      "metadata": {
        "id": "hlsZg756OLvB"
      }
    },
    {
      "cell_type": "code",
      "source": [
        "from haystack.agents import Agent\n",
        "from haystack.nodes import PromptNode\n",
        "\n",
        "prompt_node = PromptNode(model_name_or_path=\"claude-2\", api_key=anthropic_key, stop_words=[\"Observation:\"])\n",
        "agent = Agent(prompt_node=prompt_node)"
      ],
      "metadata": {
        "id": "nRR26dT4Oehc"
      },
      "execution_count": null,
      "outputs": []
    },
    {
      "cell_type": "markdown",
      "source": [
        "```python\n",
        "from haystack.agents import Tool\n",
        "\n",
        "my_tool = Tool(\n",
        "    name=\"Name_Of_Your_Tool\",\n",
        "    pipeline_or_node=your_pipeline_or_node,\n",
        "    description=\"Description of what it's useful for\",\n",
        "    output_variable=\"answers\",\n",
        ")\n",
        "agent.add_tool(my_tool)\n",
        "```"
      ],
      "metadata": {
        "id": "PWrooHa1PGf5"
      }
    }
  ]
}
